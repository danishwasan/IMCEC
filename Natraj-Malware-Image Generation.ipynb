{
 "cells": [
  {
   "cell_type": "code",
   "execution_count": 47,
   "metadata": {},
   "outputs": [],
   "source": [
    "import os,glob,numpy\n",
    "import numpy,scipy, os, array\n",
    "#from scipy.misc import imsave\n",
    "import imageio\n",
    "import time\n",
    "from PIL import Image\n"
   ]
  },
  {
   "cell_type": "code",
   "execution_count": 48,
   "metadata": {},
   "outputs": [],
   "source": [
    "def GetWidth(size):\n",
    "    widthtable = [(10240, 32),\n",
    "                  (30720, 64),\n",
    "                  (61440, 128),\n",
    "                  (102400, 256),\n",
    "                  (204800, 384),\n",
    "                  (512000, 512),\n",
    "                  (1024000, 768)]\n",
    "    maxwidth = 1024\n",
    "    for w in widthtable:\n",
    "        if size<w[0]:\n",
    "            return w[1]\n",
    "    return maxwidth"
   ]
  },
  {
   "cell_type": "code",
   "execution_count": 55,
   "metadata": {},
   "outputs": [
    {
     "name": "stdout",
     "output_type": "stream",
     "text": [
      "testing time =  0.04768824577331543\n"
     ]
    }
   ],
   "source": [
    "\n",
    "\n",
    "tic = time.time()\n",
    "filename = 'zip.exe'\n",
    "f = open(filename,'rb')\n",
    "ln = os.path.getsize(filename) # length of file in bytes\n",
    "width = 224\n",
    "rem = ln%width\n",
    "a = array.array(\"B\") # uint8 array\n",
    "a.fromfile(f,ln-rem)\n",
    "f.close()\n",
    "\n",
    "#print(a[:10])\n",
    "\n",
    "#print((len(a)/width))\n",
    "\n",
    "g = numpy.reshape(a,(int (len(a)/width),width))\n",
    "g = numpy.uint8(g)\n",
    "g = Image.fromarray(g*0.255,\"RGB\")#.convert(\"LA\")#.resize((6000,6000), Image.ANTIALIAS) \n",
    "\n",
    "toc = time.time()\n",
    "print (\"testing time = \", toc-tic) # roughly 0.3 secs\n",
    "\n",
    "imageio.imsave('459d5f31810de899f7a4b37837e67763.png',g)  # save the image\n",
    "\n",
    "#scipy.misc.imsave('459d5f31810de899f7a4b37837e67763.png',g) # save the image"
   ]
  },
  {
   "cell_type": "code",
   "execution_count": null,
   "metadata": {},
   "outputs": [],
   "source": []
  },
  {
   "cell_type": "code",
   "execution_count": null,
   "metadata": {},
   "outputs": [],
   "source": []
  }
 ],
 "metadata": {
  "kernelspec": {
   "display_name": "Python 3",
   "language": "python",
   "name": "python3"
  },
  "language_info": {
   "codemirror_mode": {
    "name": "ipython",
    "version": 3
   },
   "file_extension": ".py",
   "mimetype": "text/x-python",
   "name": "python",
   "nbconvert_exporter": "python",
   "pygments_lexer": "ipython3",
   "version": "3.6.0"
  }
 },
 "nbformat": 4,
 "nbformat_minor": 2
}
