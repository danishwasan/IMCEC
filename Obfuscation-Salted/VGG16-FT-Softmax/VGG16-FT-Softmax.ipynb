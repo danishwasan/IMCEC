{
 "cells": [
  {
   "cell_type": "markdown",
   "metadata": {},
   "source": [
    "# VGG16 Fine-Tuned+Softmax"
   ]
  },
  {
   "cell_type": "code",
   "execution_count": 1,
   "metadata": {},
   "outputs": [],
   "source": [
    "import os\n",
    "os.environ[\"CUDA_DEVICE_ORDER\"] = \"PCI_BUS_ID\"   # see issue #152\n",
    "os.environ[\"CUDA_VISIBLE_DEVICES\"] = \"1\"\n"
   ]
  },
  {
   "cell_type": "code",
   "execution_count": 2,
   "metadata": {},
   "outputs": [
    {
     "name": "stderr",
     "output_type": "stream",
     "text": [
      "Using TensorFlow backend.\n"
     ]
    }
   ],
   "source": [
    "## extra imports to set GPU options\n",
    "import tensorflow as tf\n",
    "from keras import backend as k\n",
    "\n",
    "###################################\n",
    "# TensorFlow wizardry\n",
    "config = tf.ConfigProto()\n",
    "\n",
    "# Don't pre-allocate memory; allocate as-needed\n",
    "config.gpu_options.allow_growth = True\n",
    "\n",
    "# Only allow a total of half the GPU memory to be allocated\n",
    "config.gpu_options.per_process_gpu_memory_fraction = 1 # 0.5 for Half\n",
    "\n",
    "# Create a session with the above options specified.\n",
    "k.tensorflow_backend.set_session(tf.Session(config=config))\n"
   ]
  },
  {
   "cell_type": "code",
   "execution_count": 3,
   "metadata": {},
   "outputs": [],
   "source": [
    "from keras import backend as K\n",
    "from keras.models import Sequential, Model\n",
    "from keras.layers import Activation\n",
    "from keras.layers import Dense, Flatten\n",
    "from keras.optimizers import Adam\n",
    "from keras.metrics import categorical_crossentropy\n",
    "from keras.preprocessing.image import ImageDataGenerator\n",
    "from keras.layers.normalization import BatchNormalization\n",
    "from keras.layers.convolutional import *\n",
    "from keras.models import Sequential\n",
    "from keras.layers.core import Flatten, Dense, Dropout\n",
    "from keras.layers.convolutional import Convolution2D, MaxPooling2D, ZeroPadding2D\n",
    "from keras.optimizers import SGD\n",
    "from matplotlib import pyplot as plt\n",
    "from sklearn.metrics import confusion_matrix\n",
    "from keras.utils import plot_model\n",
    "import numpy\n",
    "import tensorflow as tf\n",
    "import keras\n",
    "import seaborn as sns\n",
    "import pandas as pd\n",
    "import numpy as np\n",
    "import linecache\n",
    "import sys\n",
    "import h5py\n",
    "import itertools\n",
    "import matplotlib.pyplot as plt\n",
    "import os\n",
    "import pickle\n",
    "import matplotlib.pyplot as plt; plt.rcdefaults()\n",
    "import numpy as np\n",
    "import matplotlib.pyplot as plt\n",
    "from keras.callbacks import ModelCheckpoint\n",
    "from keras.callbacks import TensorBoard\n",
    "from keras.callbacks import ReduceLROnPlateau\n",
    "from keras.callbacks import EarlyStopping\n",
    "from keras.callbacks import RemoteMonitor\n",
    "from numpy import argmax\n",
    "import numpy as np\n",
    "from numpy.random import RandomState\n",
    "np.random.seed(1)\n",
    "#from sklearn.manifold import TSNE\n",
    "from sklearn.preprocessing import label_binarize\n",
    "from keras.utils import to_categorical\n",
    "\n",
    "\n",
    "\n",
    "from tsne import bh_sne\n",
    "#from tsne.bh_sne import BH_SNE\n",
    "import matplotlib.pyplot as plt\n",
    "from sklearn.model_selection import train_test_split\n",
    "\n",
    "import os\n",
    "import os.path\n",
    "import glob\n",
    "\n",
    "from keras.preprocessing import image\n",
    "from keras.applications.vgg16 import VGG16\n",
    "from keras.applications.imagenet_utils import preprocess_input"
   ]
  },
  {
   "cell_type": "code",
   "execution_count": 4,
   "metadata": {},
   "outputs": [],
   "source": [
    "import os\n",
    "import os.path\n",
    "import glob\n",
    "\n",
    "from sklearn.preprocessing import LabelEncoder\n",
    "from sklearn.model_selection import StratifiedKFold                                                                                                                       \n",
    "from sklearn.metrics import confusion_matrix,accuracy_score\n",
    "from sklearn import svm\n",
    "\n",
    "import matplotlib.pyplot as plt\n",
    "import matplotlib.cm as colormap\n",
    "plt.rcParams['image.cmap'] = 'Paired'\n",
    "\n",
    "import numpy as np\n",
    "np.random.seed(1)\n",
    "\n",
    "from keras.preprocessing.image import load_img\n",
    "from keras.preprocessing.image import img_to_array\n",
    "from keras.utils import np_utils\n",
    "#from PIL import Image\n",
    "from keras.preprocessing import image\n",
    "\n",
    "\n",
    "from keras.applications.vgg19 import VGG19\n",
    "from keras.applications.vgg16 import VGG16\n",
    "from keras.applications.imagenet_utils import preprocess_input"
   ]
  },
  {
   "cell_type": "code",
   "execution_count": 5,
   "metadata": {},
   "outputs": [
    {
     "data": {
      "text/plain": [
       "'1.9.0'"
      ]
     },
     "execution_count": 5,
     "metadata": {},
     "output_type": "execute_result"
    }
   ],
   "source": [
    "tf.__version__"
   ]
  },
  {
   "cell_type": "code",
   "execution_count": 6,
   "metadata": {},
   "outputs": [
    {
     "name": "stdout",
     "output_type": "stream",
     "text": [
      "(9339, 224, 224, 3)\n",
      "(9339,)\n",
      "Elasped Time (s) =  12.115686893463135\n"
     ]
    }
   ],
   "source": [
    "import time\n",
    "tic = time.time();\n",
    "\n",
    "X = np.load(\"/data/danish/ImgProPython/TensorFlow-Tutorials/Ensemble-Networks/IMCEC(Paper Expriments)/Computer-and-Security(IMCEC-version1)/DatasetX.npy\")\n",
    "y = np.load(\"/data/danish/ImgProPython/TensorFlow-Tutorials/Ensemble-Networks/IMCEC(Paper Expriments)/Computer-and-Security(IMCEC-version1)/Datasety.npy\")\n",
    "print(X.shape)\n",
    "print(y.shape)\n",
    "\n",
    "file = open('/data/danish/ImgProPython/TensorFlow-Tutorials/Ensemble-Networks/IMCEC(Paper Expriments)/Computer-and-Security(IMCEC-version1)/list_fams.pkl', 'rb')\n",
    "list_fams = pickle.load(file)\n",
    "file.close()\n",
    "len(list_fams)\n",
    "\n",
    "\n",
    "toc = time.time();\n",
    "print (\"Elasped Time (s) = \", toc-tic);\n"
   ]
  },
  {
   "cell_type": "code",
   "execution_count": 7,
   "metadata": {},
   "outputs": [
    {
     "data": {
      "text/plain": [
       "(9339, 224, 224, 3)"
      ]
     },
     "execution_count": 7,
     "metadata": {},
     "output_type": "execute_result"
    }
   ],
   "source": [
    "from numpy import array\n",
    "from numpy import argmax\n",
    "from keras.utils import to_categorical\n",
    "\n",
    "y = to_categorical(y)\n",
    "\n",
    "X = numpy.array(X)\n",
    "y = numpy.array(y)\n",
    "X.shape"
   ]
  },
  {
   "cell_type": "code",
   "execution_count": 8,
   "metadata": {},
   "outputs": [],
   "source": [
    "model = keras.applications.vgg16.VGG16(include_top=True, weights='imagenet', input_shape=(224,224,3), classes=1000)\n",
    "#model.summary()"
   ]
  },
  {
   "cell_type": "code",
   "execution_count": 9,
   "metadata": {},
   "outputs": [],
   "source": [
    "transfer_layer = model.get_layer('fc2')\n",
    "\n",
    "x=Dense(25, activation='softmax')(transfer_layer.output)\n",
    "CNN = Model(inputs=model.input,\n",
    "                   outputs=x)\n",
    "#CNN.summary()"
   ]
  },
  {
   "cell_type": "code",
   "execution_count": 10,
   "metadata": {},
   "outputs": [
    {
     "name": "stdout",
     "output_type": "stream",
     "text": [
      "Elasped Time (s) =  11.572436809539795\n"
     ]
    }
   ],
   "source": [
    "tic = time.time();\n",
    "\n",
    "\n",
    "from sklearn.model_selection import train_test_split\n",
    "\n",
    "X_train, X_test, y_train, y_test = train_test_split(X, y, test_size=0.301, random_state=42)\n",
    "\n",
    "toc = time.time();\n",
    "print (\"Elasped Time (s) = \", toc-tic);"
   ]
  },
  {
   "cell_type": "code",
   "execution_count": 11,
   "metadata": {},
   "outputs": [
    {
     "data": {
      "text/plain": [
       "(2812, 25)"
      ]
     },
     "execution_count": 11,
     "metadata": {},
     "output_type": "execute_result"
    }
   ],
   "source": [
    "y_test.shape"
   ]
  },
  {
   "cell_type": "code",
   "execution_count": 12,
   "metadata": {},
   "outputs": [],
   "source": [
    "datagen = ImageDataGenerator()"
   ]
  },
  {
   "cell_type": "code",
   "execution_count": 13,
   "metadata": {},
   "outputs": [],
   "source": [
    "batch_size = 32\n",
    "generator_train = datagen.flow(X_train, y_train, batch_size=batch_size)\n",
    "steps_train = generator_train.n/ batch_size\n",
    "#cls_train = generator_train.classes\n",
    "#print(\"Labels of samples as integer\\n\\n\",cls_train)"
   ]
  },
  {
   "cell_type": "code",
   "execution_count": 14,
   "metadata": {},
   "outputs": [
    {
     "name": "stdout",
     "output_type": "stream",
     "text": [
      "Steps for Test\n",
      "\n",
      " 87.875\n"
     ]
    }
   ],
   "source": [
    "generator_test = datagen.flow(X_test, y_test, batch_size=batch_size)\n",
    "steps_test = generator_test.n / batch_size\n",
    "print(\"Steps for Test\\n\\n\",steps_test)"
   ]
  },
  {
   "cell_type": "code",
   "execution_count": null,
   "metadata": {},
   "outputs": [],
   "source": []
  },
  {
   "cell_type": "code",
   "execution_count": 15,
   "metadata": {},
   "outputs": [],
   "source": [
    "sgd = SGD(lr=0.001, decay=0.01, momentum=0.9)\n",
    "\n",
    "CNN.compile(optimizer = sgd, loss='categorical_crossentropy', metrics=['accuracy'])"
   ]
  },
  {
   "cell_type": "raw",
   "metadata": {},
   "source": [
    "CNN.fit(X_train, y_train, batch_size = 64, epochs = 50, verbose = 1,validation_data = (X_test, y_test))"
   ]
  },
  {
   "cell_type": "code",
   "execution_count": 16,
   "metadata": {},
   "outputs": [
    {
     "name": "stdout",
     "output_type": "stream",
     "text": [
      "CPU times: user 2 µs, sys: 4 µs, total: 6 µs\n",
      "Wall time: 14.1 µs\n",
      "Epoch 1/50\n",
      "204/203 [==============================] - 71s 347ms/step - loss: 13.0244 - acc: 0.1730 - val_loss: 13.4872 - val_acc: 0.1632\n",
      "Epoch 2/50\n",
      "204/203 [==============================] - 65s 320ms/step - loss: 13.3223 - acc: 0.1735 - val_loss: 13.4872 - val_acc: 0.1632\n",
      "Epoch 3/50\n",
      "204/203 [==============================] - 66s 323ms/step - loss: 13.3227 - acc: 0.1734 - val_loss: 13.4872 - val_acc: 0.1632\n",
      "Epoch 4/50\n",
      "204/203 [==============================] - 66s 323ms/step - loss: 13.3228 - acc: 0.1734 - val_loss: 13.4872 - val_acc: 0.1632\n",
      "Epoch 5/50\n",
      "204/203 [==============================] - 67s 326ms/step - loss: 13.3230 - acc: 0.1734 - val_loss: 13.4872 - val_acc: 0.1632\n",
      "Epoch 6/50\n",
      "204/203 [==============================] - 65s 320ms/step - loss: 13.3228 - acc: 0.1734 - val_loss: 13.4872 - val_acc: 0.1632\n",
      "Epoch 7/50\n",
      "204/203 [==============================] - 66s 322ms/step - loss: 13.3229 - acc: 0.1734 - val_loss: 13.4872 - val_acc: 0.1632\n",
      "Epoch 8/50\n",
      "204/203 [==============================] - 67s 328ms/step - loss: 13.3228 - acc: 0.1734 - val_loss: 13.4872 - val_acc: 0.1632\n",
      "Epoch 9/50\n",
      "204/203 [==============================] - 66s 325ms/step - loss: 13.3228 - acc: 0.1734 - val_loss: 13.4872 - val_acc: 0.1632\n",
      "Epoch 10/50\n",
      "204/203 [==============================] - 66s 322ms/step - loss: 13.3226 - acc: 0.1734 - val_loss: 13.4872 - val_acc: 0.1632\n",
      "Epoch 11/50\n",
      "204/203 [==============================] - 65s 321ms/step - loss: 13.3229 - acc: 0.1734 - val_loss: 13.4872 - val_acc: 0.1632\n",
      "Epoch 12/50\n",
      "204/203 [==============================] - 66s 325ms/step - loss: 13.3227 - acc: 0.1734 - val_loss: 13.4872 - val_acc: 0.1632\n",
      "Epoch 13/50\n",
      "204/203 [==============================] - 66s 323ms/step - loss: 13.3229 - acc: 0.1734 - val_loss: 13.4872 - val_acc: 0.1632\n",
      "Epoch 14/50\n",
      "204/203 [==============================] - 65s 321ms/step - loss: 13.3228 - acc: 0.1734 - val_loss: 13.4872 - val_acc: 0.1632\n",
      "Epoch 15/50\n",
      "204/203 [==============================] - 66s 322ms/step - loss: 13.3228 - acc: 0.1734 - val_loss: 13.4872 - val_acc: 0.1632\n",
      "Epoch 16/50\n",
      "204/203 [==============================] - 67s 326ms/step - loss: 13.3223 - acc: 0.1735 - val_loss: 13.4872 - val_acc: 0.1632\n",
      "Epoch 17/50\n",
      "204/203 [==============================] - 66s 322ms/step - loss: 13.3223 - acc: 0.1735 - val_loss: 13.4872 - val_acc: 0.1632\n",
      "Epoch 18/50\n",
      "204/203 [==============================] - 66s 321ms/step - loss: 13.3226 - acc: 0.1734 - val_loss: 13.4872 - val_acc: 0.1632\n",
      "Epoch 19/50\n",
      "204/203 [==============================] - 65s 321ms/step - loss: 13.3229 - acc: 0.1734 - val_loss: 13.4872 - val_acc: 0.1632\n",
      "Epoch 20/50\n",
      "204/203 [==============================] - 66s 321ms/step - loss: 13.3229 - acc: 0.1734 - val_loss: 13.4872 - val_acc: 0.1632\n",
      "Epoch 21/50\n",
      "204/203 [==============================] - 66s 323ms/step - loss: 13.3226 - acc: 0.1734 - val_loss: 13.4872 - val_acc: 0.1632\n",
      "Epoch 22/50\n",
      "204/203 [==============================] - 65s 319ms/step - loss: 13.3225 - acc: 0.1734 - val_loss: 13.4872 - val_acc: 0.1632\n",
      "Epoch 23/50\n",
      "204/203 [==============================] - 66s 322ms/step - loss: 13.3226 - acc: 0.1734 - val_loss: 13.4872 - val_acc: 0.1632\n",
      "Epoch 24/50\n",
      "204/203 [==============================] - 67s 327ms/step - loss: 13.3226 - acc: 0.1734 - val_loss: 13.4872 - val_acc: 0.1632\n",
      "Epoch 25/50\n",
      "204/203 [==============================] - 65s 321ms/step - loss: 13.3226 - acc: 0.1734 - val_loss: 13.4872 - val_acc: 0.1632\n",
      "Epoch 26/50\n",
      "204/203 [==============================] - 65s 320ms/step - loss: 13.3227 - acc: 0.1734 - val_loss: 13.4872 - val_acc: 0.1632\n",
      "Epoch 27/50\n",
      "204/203 [==============================] - 66s 321ms/step - loss: 13.3229 - acc: 0.1734 - val_loss: 13.4872 - val_acc: 0.1632\n",
      "Epoch 28/50\n",
      "204/203 [==============================] - 65s 320ms/step - loss: 13.3226 - acc: 0.1734 - val_loss: 13.4872 - val_acc: 0.1632\n",
      "Epoch 29/50\n",
      "204/203 [==============================] - 65s 320ms/step - loss: 13.3229 - acc: 0.1734 - val_loss: 13.4872 - val_acc: 0.1632\n",
      "Epoch 30/50\n",
      "204/203 [==============================] - 66s 324ms/step - loss: 13.3226 - acc: 0.1734 - val_loss: 13.4872 - val_acc: 0.1632\n",
      "Epoch 31/50\n",
      "204/203 [==============================] - 66s 326ms/step - loss: 13.3227 - acc: 0.1734 - val_loss: 13.4872 - val_acc: 0.1632\n",
      "Epoch 32/50\n",
      "204/203 [==============================] - 65s 320ms/step - loss: 13.3226 - acc: 0.1734 - val_loss: 13.4872 - val_acc: 0.1632\n",
      "Epoch 33/50\n",
      "204/203 [==============================] - 66s 322ms/step - loss: 13.3229 - acc: 0.1734 - val_loss: 13.4872 - val_acc: 0.1632\n",
      "Epoch 34/50\n",
      "204/203 [==============================] - 66s 321ms/step - loss: 13.3226 - acc: 0.1734 - val_loss: 13.4872 - val_acc: 0.1632\n",
      "Epoch 35/50\n",
      "204/203 [==============================] - 67s 326ms/step - loss: 13.3224 - acc: 0.1735 - val_loss: 13.4872 - val_acc: 0.1632\n",
      "Epoch 36/50\n",
      "204/203 [==============================] - 65s 321ms/step - loss: 13.3229 - acc: 0.1734 - val_loss: 13.4872 - val_acc: 0.1632\n",
      "Epoch 37/50\n",
      "204/203 [==============================] - 65s 320ms/step - loss: 13.3224 - acc: 0.1735 - val_loss: 13.4872 - val_acc: 0.1632\n",
      "Epoch 38/50\n",
      "204/203 [==============================] - 67s 326ms/step - loss: 13.3226 - acc: 0.1734 - val_loss: 13.4872 - val_acc: 0.1632\n",
      "Epoch 39/50\n",
      "204/203 [==============================] - 66s 323ms/step - loss: 13.3227 - acc: 0.1734 - val_loss: 13.4872 - val_acc: 0.1632\n",
      "Epoch 40/50\n",
      "204/203 [==============================] - 65s 318ms/step - loss: 13.3229 - acc: 0.1734 - val_loss: 13.4872 - val_acc: 0.1632\n",
      "Epoch 41/50\n",
      "204/203 [==============================] - 65s 321ms/step - loss: 13.3228 - acc: 0.1734 - val_loss: 13.4872 - val_acc: 0.1632\n",
      "Epoch 42/50\n",
      "204/203 [==============================] - 66s 326ms/step - loss: 13.3226 - acc: 0.1734 - val_loss: 13.4872 - val_acc: 0.1632\n",
      "Epoch 43/50\n",
      "204/203 [==============================] - 65s 320ms/step - loss: 13.3226 - acc: 0.1734 - val_loss: 13.4872 - val_acc: 0.1632\n",
      "Epoch 44/50\n",
      "204/203 [==============================] - 66s 322ms/step - loss: 13.3227 - acc: 0.1734 - val_loss: 13.4872 - val_acc: 0.1632\n",
      "Epoch 45/50\n",
      "204/203 [==============================] - 66s 322ms/step - loss: 13.3229 - acc: 0.1734 - val_loss: 13.4872 - val_acc: 0.1632\n",
      "Epoch 46/50\n",
      "204/203 [==============================] - 65s 320ms/step - loss: 13.3226 - acc: 0.1734 - val_loss: 13.4872 - val_acc: 0.1632\n",
      "Epoch 47/50\n",
      "204/203 [==============================] - 65s 318ms/step - loss: 13.3227 - acc: 0.1734 - val_loss: 13.4872 - val_acc: 0.1632\n",
      "Epoch 48/50\n",
      "204/203 [==============================] - 66s 321ms/step - loss: 13.3226 - acc: 0.1734 - val_loss: 13.4872 - val_acc: 0.1632\n",
      "Epoch 49/50\n",
      "204/203 [==============================] - 66s 322ms/step - loss: 13.3227 - acc: 0.1734 - val_loss: 13.4872 - val_acc: 0.1632\n",
      "Epoch 50/50\n",
      "204/203 [==============================] - 66s 324ms/step - loss: 13.3226 - acc: 0.1734 - val_loss: 13.4872 - val_acc: 0.1632\n"
     ]
    }
   ],
   "source": [
    "%time\n",
    "tbCallBack = keras.callbacks.TensorBoard(log_dir='./Graph', histogram_freq=0, write_graph=True, write_images=True)\n",
    "\n",
    "filepath = 'Malimg-fine-tuned.hdf5'\n",
    "\n",
    "# Keep only a single checkpoint, the best over test accuracy.\n",
    "checkpoint = ModelCheckpoint(filepath,\n",
    "                            save_best_only=True, #True\n",
    "                            monitor='val_acc',\n",
    "                            verbose=1)\n",
    "\n",
    "history = CNN.fit_generator(generator_train,\n",
    "                                epochs=50,\n",
    "                                steps_per_epoch=steps_train,\n",
    "                                callbacks=[tbCallBack],#checkpoint,\n",
    "                                validation_data=generator_test,\n",
    "                                validation_steps=steps_test\n",
    "                                )"
   ]
  },
  {
   "cell_type": "code",
   "execution_count": 14,
   "metadata": {},
   "outputs": [],
   "source": [
    "CNN.save(\"VGG16-FT-Model.h5\")"
   ]
  },
  {
   "cell_type": "code",
   "execution_count": 15,
   "metadata": {},
   "outputs": [],
   "source": [
    "#####################################\n",
    "# write Traning History to a file\n",
    "output = open('VGG16-FT-Softmax-history.pkl', 'wb')\n",
    "pickle.dump(history.history, output)\n",
    "output.close()\n",
    "#####################################"
   ]
  },
  {
   "cell_type": "code",
   "execution_count": 16,
   "metadata": {},
   "outputs": [
    {
     "name": "stdout",
     "output_type": "stream",
     "text": [
      "1/1 [==============================] - 1s 741ms/step\n",
      "acc: 82.76%\n"
     ]
    }
   ],
   "source": [
    "scores = CNN.evaluate_generator(generator_test, verbose=1)\n",
    "print(\"%s: %.2f%%\" % (CNN.metrics_names[1], scores[1]*100))"
   ]
  },
  {
   "cell_type": "code",
   "execution_count": 17,
   "metadata": {},
   "outputs": [],
   "source": [
    "# read Traning History back from the file\n",
    "pkl_file = open('VGG16-FT-Softmax-history.pkl', 'rb')\n",
    "history = pickle.load(pkl_file)\n",
    "pkl_file.close()"
   ]
  },
  {
   "cell_type": "code",
   "execution_count": 13,
   "metadata": {},
   "outputs": [
    {
     "name": "stdout",
     "output_type": "stream",
     "text": [
      "CPU times: user 4 µs, sys: 2 µs, total: 6 µs\n",
      "Wall time: 12.6 µs\n",
      "Epoch 1/50\n",
      "3/2 [==========================================] - 10s 3s/step - loss: 2.9764 - acc: 0.2686 - val_loss: 2.1393 - val_acc: 0.4655\n",
      "Epoch 2/50\n",
      "3/2 [==========================================] - 1s 490ms/step - loss: 1.6311 - acc: 0.4627 - val_loss: 2.2160 - val_acc: 0.4483\n",
      "Epoch 3/50\n",
      "3/2 [==========================================] - 2s 725ms/step - loss: 1.8432 - acc: 0.4423 - val_loss: 1.6915 - val_acc: 0.3448\n",
      "Epoch 4/50\n",
      "3/2 [==========================================] - 2s 767ms/step - loss: 1.4385 - acc: 0.4050 - val_loss: 1.9553 - val_acc: 0.4138\n",
      "Epoch 5/50\n",
      "3/2 [==========================================] - 2s 670ms/step - loss: 1.8219 - acc: 0.3264 - val_loss: 1.2090 - val_acc: 0.3793\n",
      "Epoch 6/50\n",
      "3/2 [==========================================] - 2s 623ms/step - loss: 1.3335 - acc: 0.2975 - val_loss: 0.9819 - val_acc: 0.6207\n",
      "Epoch 7/50\n",
      "3/2 [==========================================] - 2s 701ms/step - loss: 0.8566 - acc: 0.7229 - val_loss: 1.1403 - val_acc: 0.6724\n",
      "Epoch 8/50\n",
      "3/2 [==========================================] - 2s 778ms/step - loss: 1.1776 - acc: 0.6270 - val_loss: 0.9253 - val_acc: 0.6897\n",
      "Epoch 9/50\n",
      "3/2 [==========================================] - 2s 601ms/step - loss: 0.6473 - acc: 0.7660 - val_loss: 0.6080 - val_acc: 0.6552\n",
      "Epoch 10/50\n",
      "3/2 [==========================================] - 2s 596ms/step - loss: 0.6591 - acc: 0.7025 - val_loss: 0.5410 - val_acc: 0.7069\n",
      "Epoch 11/50\n",
      "3/2 [==========================================] - 2s 664ms/step - loss: 0.6230 - acc: 0.7051 - val_loss: 0.6634 - val_acc: 0.7759\n",
      "Epoch 12/50\n",
      "3/2 [==========================================] - 2s 629ms/step - loss: 0.4948 - acc: 0.8211 - val_loss: 0.5219 - val_acc: 0.7759\n",
      "Epoch 13/50\n",
      "3/2 [==========================================] - 2s 780ms/step - loss: 0.8150 - acc: 0.7513 - val_loss: 0.4216 - val_acc: 0.8448\n",
      "Epoch 14/50\n",
      "3/2 [==========================================] - 2s 811ms/step - loss: 0.4050 - acc: 0.8384 - val_loss: 0.5584 - val_acc: 0.8448\n",
      "Epoch 15/50\n",
      "3/2 [==========================================] - 2s 806ms/step - loss: 0.4693 - acc: 0.8006 - val_loss: 0.6192 - val_acc: 0.6897\n",
      "Epoch 16/50\n",
      "3/2 [==========================================] - 2s 823ms/step - loss: 0.4250 - acc: 0.7775 - val_loss: 0.5292 - val_acc: 0.7069\n",
      "Epoch 17/50\n",
      "3/2 [==========================================] - 2s 771ms/step - loss: 0.4018 - acc: 0.8326 - val_loss: 0.5039 - val_acc: 0.7931\n",
      "Epoch 18/50\n",
      "3/2 [==========================================] - 2s 690ms/step - loss: 0.4286 - acc: 0.8033 - val_loss: 0.5107 - val_acc: 0.7586\n",
      "Epoch 19/50\n",
      "3/2 [==========================================] - 2s 618ms/step - loss: 0.3677 - acc: 0.7802 - val_loss: 0.5037 - val_acc: 0.8103\n",
      "Epoch 20/50\n",
      "3/2 [==========================================] - 3s 1s/step - loss: 0.3187 - acc: 0.8788 - val_loss: 0.5360 - val_acc: 0.8448\n",
      "Epoch 21/50\n",
      "3/2 [==========================================] - 2s 714ms/step - loss: 0.4773 - acc: 0.7917 - val_loss: 0.5934 - val_acc: 0.7759\n",
      "Epoch 22/50\n",
      "3/2 [==========================================] - 2s 622ms/step - loss: 0.3841 - acc: 0.7540 - val_loss: 0.5046 - val_acc: 0.8793\n",
      "Epoch 23/50\n",
      "3/2 [==========================================] - 2s 691ms/step - loss: 0.2695 - acc: 0.9076 - val_loss: 0.4380 - val_acc: 0.8793\n",
      "Epoch 24/50\n",
      "3/2 [==========================================] - 3s 895ms/step - loss: 0.3926 - acc: 0.8699 - val_loss: 0.5540 - val_acc: 0.8793\n",
      "Epoch 25/50\n",
      "3/2 [==========================================] - 2s 820ms/step - loss: 0.2940 - acc: 0.8903 - val_loss: 0.6851 - val_acc: 0.8621\n",
      "Epoch 26/50\n",
      "3/2 [==========================================] - 2s 530ms/step - loss: 0.2935 - acc: 0.8846 - val_loss: 0.5973 - val_acc: 0.8448\n",
      "Epoch 27/50\n",
      "3/2 [==========================================] - 3s 868ms/step - loss: 0.2884 - acc: 0.9134 - val_loss: 0.4820 - val_acc: 0.8448\n",
      "Epoch 28/50\n",
      "3/2 [==========================================] - 3s 963ms/step - loss: 0.3807 - acc: 0.8699 - val_loss: 0.5652 - val_acc: 0.8793\n",
      "Epoch 29/50\n",
      "3/2 [==========================================] - 2s 802ms/step - loss: 0.2644 - acc: 0.9019 - val_loss: 0.4580 - val_acc: 0.8621\n",
      "Epoch 30/50\n",
      "3/2 [==========================================] - 3s 1s/step - loss: 0.3662 - acc: 0.8583 - val_loss: 0.4458 - val_acc: 0.8621\n",
      "Epoch 31/50\n",
      "3/2 [==========================================] - 2s 612ms/step - loss: 0.2751 - acc: 0.8903 - val_loss: 0.5412 - val_acc: 0.8621\n",
      "Epoch 32/50\n",
      "3/2 [==========================================] - 4s 1s/step - loss: 0.3084 - acc: 0.8814 - val_loss: 0.5967 - val_acc: 0.8621\n",
      "Epoch 33/50\n",
      "3/2 [==========================================] - 2s 788ms/step - loss: 0.2761 - acc: 0.9076 - val_loss: 0.7689 - val_acc: 0.8621\n",
      "Epoch 34/50\n",
      "3/2 [==========================================] - 3s 912ms/step - loss: 0.3017 - acc: 0.8699 - val_loss: 0.7905 - val_acc: 0.8448\n",
      "Epoch 35/50\n",
      "3/2 [==========================================] - 3s 851ms/step - loss: 0.3227 - acc: 0.8872 - val_loss: 0.7045 - val_acc: 0.8103\n",
      "Epoch 36/50\n",
      "3/2 [==========================================] - 3s 905ms/step - loss: 0.2520 - acc: 0.9192 - val_loss: 0.6946 - val_acc: 0.8793\n",
      "Epoch 37/50\n",
      "3/2 [==========================================] - 2s 805ms/step - loss: 0.2223 - acc: 0.9019 - val_loss: 0.6403 - val_acc: 0.8793\n",
      "Epoch 38/50\n",
      "3/2 [==========================================] - 2s 741ms/step - loss: 0.2933 - acc: 0.8699 - val_loss: 0.6930 - val_acc: 0.8793\n",
      "Epoch 39/50\n",
      "3/2 [==========================================] - 3s 852ms/step - loss: 0.2583 - acc: 0.9134 - val_loss: 0.7658 - val_acc: 0.8448\n",
      "Epoch 40/50\n",
      "3/2 [==========================================] - 3s 864ms/step - loss: 0.3054 - acc: 0.8264 - val_loss: 0.6319 - val_acc: 0.8793\n",
      "Epoch 41/50\n",
      "3/2 [==========================================] - 2s 741ms/step - loss: 0.2691 - acc: 0.8699 - val_loss: 0.5975 - val_acc: 0.8103\n",
      "Epoch 42/50\n",
      "3/2 [==========================================] - 3s 1s/step - loss: 0.2453 - acc: 0.8961 - val_loss: 0.6627 - val_acc: 0.8103\n",
      "Epoch 43/50\n",
      "3/2 [==========================================] - 2s 800ms/step - loss: 0.3018 - acc: 0.8526 - val_loss: 0.7169 - val_acc: 0.8103\n",
      "Epoch 44/50\n",
      "3/2 [==========================================] - 2s 810ms/step - loss: 0.2218 - acc: 0.8961 - val_loss: 0.7501 - val_acc: 0.8103\n",
      "Epoch 45/50\n",
      "3/2 [==========================================] - 2s 672ms/step - loss: 0.2118 - acc: 0.9019 - val_loss: 0.7381 - val_acc: 0.8621\n",
      "Epoch 46/50\n",
      "3/2 [==========================================] - 2s 740ms/step - loss: 0.2734 - acc: 0.8757 - val_loss: 0.7470 - val_acc: 0.8621\n",
      "Epoch 47/50\n",
      "3/2 [==========================================] - 2s 713ms/step - loss: 0.2477 - acc: 0.8814 - val_loss: 0.8018 - val_acc: 0.8621\n",
      "Epoch 48/50\n",
      "3/2 [==========================================] - 2s 823ms/step - loss: 0.2751 - acc: 0.8872 - val_loss: 0.9192 - val_acc: 0.7759\n",
      "Epoch 49/50\n",
      "3/2 [==========================================] - 2s 623ms/step - loss: 0.2100 - acc: 0.9250 - val_loss: 0.8408 - val_acc: 0.7759\n",
      "Epoch 50/50\n",
      "3/2 [==========================================] - 2s 652ms/step - loss: 0.2159 - acc: 0.9192 - val_loss: 0.6214 - val_acc: 0.8276\n"
     ]
    }
   ],
   "source": [
    "%time\n",
    "tbCallBack = keras.callbacks.TensorBoard(log_dir='./Graph', histogram_freq=0, write_graph=True, write_images=True)\n",
    "\n",
    "filepath = 'Malimg-fine-tuned.hdf5'\n",
    "\n",
    "# Keep only a single checkpoint, the best over test accuracy.\n",
    "checkpoint = ModelCheckpoint(filepath,\n",
    "                            save_best_only=True, #True\n",
    "                            monitor='val_acc',\n",
    "                            verbose=1)\n",
    "\n",
    "history = CNN.fit_generator(generator=generator_train,\n",
    "                                epochs=50,\n",
    "                                steps_per_epoch=steps_train,\n",
    "                                callbacks=[tbCallBack],#checkpoint,\n",
    "                                validation_data=generator_test,\n",
    "                                validation_steps=steps_test\n",
    "                                )"
   ]
  },
  {
   "cell_type": "code",
   "execution_count": 18,
   "metadata": {},
   "outputs": [],
   "source": [
    "from keras.models import load_model\n",
    "CNN = load_model(\"VGG16-FT-Model.h5\")\n",
    "#CNN.summary()"
   ]
  },
  {
   "cell_type": "code",
   "execution_count": 19,
   "metadata": {},
   "outputs": [
    {
     "name": "stdout",
     "output_type": "stream",
     "text": [
      "1/1 [==============================] - 1s 1s/step\n",
      "acc: 82.76%\n"
     ]
    }
   ],
   "source": [
    "scores = CNN.evaluate_generator(generator_test, verbose=1)\n",
    "print(\"%s: %.2f%%\" % (CNN.metrics_names[1], scores[1]*100))"
   ]
  },
  {
   "cell_type": "code",
   "execution_count": 20,
   "metadata": {},
   "outputs": [
    {
     "name": "stdout",
     "output_type": "stream",
     "text": [
      "\r",
      "1/1 [==============================] - 2s 2s/step\n"
     ]
    }
   ],
   "source": [
    "cls_pred = CNN.predict_generator(generator_test, verbose=1)"
   ]
  },
  {
   "cell_type": "code",
   "execution_count": 21,
   "metadata": {},
   "outputs": [
    {
     "name": "stdout",
     "output_type": "stream",
     "text": [
      "[2 3 0 0 2 2 0 0 0 0 3 3 1 3 3 3 1 1 0 1 2 2 2 2 2 2 2 2 2 2 2 2 2 2 2 2 2\n",
      " 2 3 3 3 3 3 3 3 3 3 3 3 3 3 3 3 3 3 3 3 3]\n"
     ]
    }
   ],
   "source": [
    "cls_pred = np.argmax(cls_pred, axis=1)\n",
    "print(cls_pred)"
   ]
  },
  {
   "cell_type": "code",
   "execution_count": 22,
   "metadata": {},
   "outputs": [],
   "source": [
    "file = open('VGG16-FT+Softmax(pred).pkl', 'wb')\n",
    "pickle.dump(cls_pred, file)\n",
    "file.close()"
   ]
  },
  {
   "cell_type": "code",
   "execution_count": 23,
   "metadata": {},
   "outputs": [],
   "source": [
    "from pycm import ConfusionMatrix\n",
    "CM_VGG16_FT_Softmax = ConfusionMatrix(cls_test,cls_pred)\n",
    "file = open('CM_VGG16_FT_Softmax_.pkl', 'wb')\n",
    "pickle.dump(CM_VGG16_FT_Softmax, file)\n",
    "file.close()"
   ]
  },
  {
   "cell_type": "code",
   "execution_count": 24,
   "metadata": {},
   "outputs": [
    {
     "data": {
      "text/plain": [
       "pycm.ConfusionMatrix(classes: ['0', '1', '2', '3'])"
      ]
     },
     "execution_count": 24,
     "metadata": {},
     "output_type": "execute_result"
    }
   ],
   "source": [
    "file = open('CM_VGG16_FT_Softmax_.pkl', 'rb')\n",
    "CM_VGG16_FT_Softmax = pickle.load(file)\n",
    "file.close()\n",
    "CM_VGG16_FT_Softmax"
   ]
  },
  {
   "cell_type": "code",
   "execution_count": 25,
   "metadata": {},
   "outputs": [
    {
     "data": {
      "text/plain": [
       "['Phobi', 'Phobi-Packed', 'Tesla', 'Tesla-Packed']"
      ]
     },
     "execution_count": 25,
     "metadata": {},
     "output_type": "execute_result"
    }
   ],
   "source": [
    "list_fams = list(generator_train.class_indices.keys())\n",
    "list_fams"
   ]
  },
  {
   "cell_type": "code",
   "execution_count": 26,
   "metadata": {},
   "outputs": [
    {
     "name": "stdout",
     "output_type": "stream",
     "text": [
      "              precision    recall  f1-score   support\n",
      "\n",
      "       Phobi       0.86      0.60      0.71        10\n",
      "Phobi-Packed       1.00      0.40      0.57        10\n",
      "       Tesla       0.86      1.00      0.92        18\n",
      "Tesla-Packed       0.77      1.00      0.87        20\n",
      "\n",
      "    accuracy                           0.83        58\n",
      "   macro avg       0.87      0.75      0.77        58\n",
      "weighted avg       0.85      0.83      0.81        58\n",
      "\n"
     ]
    }
   ],
   "source": [
    "from sklearn.metrics import classification_report, confusion_matrix  \n",
    "#print(confusion_matrix(cls_test,cls_pred))  \n",
    "print(classification_report(cls_test,cls_pred,target_names=list_fams)) "
   ]
  },
  {
   "cell_type": "code",
   "execution_count": 27,
   "metadata": {},
   "outputs": [
    {
     "name": "stdout",
     "output_type": "stream",
     "text": [
      "(58, 4)\n",
      "(58, 4)\n"
     ]
    }
   ],
   "source": [
    "from numpy import array\n",
    "from numpy import argmax\n",
    "from keras.utils import to_categorical\n",
    "# define example\n",
    "Y_pred = cls_pred\n",
    "\n",
    "# one hot encode\n",
    "Y_pred = to_categorical(Y_pred)\n",
    "print(Y_pred.shape)\n",
    "# invert encoding\n",
    "#inverted = argmax(encoded[0])\n",
    "#print(inverted)\n",
    "\n",
    "\n",
    "from numpy import array\n",
    "from numpy import argmax\n",
    "from keras.utils import to_categorical\n",
    "# define example\n",
    "Y_test = cls_test\n",
    "\n",
    "# one hot encode\n",
    "Y_test = to_categorical(Y_test)\n",
    "print(Y_test.shape)\n",
    "# invert encoding\n",
    "#inverted = argmax(encoded[0])\n",
    "#print(inverted)"
   ]
  },
  {
   "cell_type": "code",
   "execution_count": 28,
   "metadata": {},
   "outputs": [],
   "source": [
    "import numpy as np\n",
    "import matplotlib.pyplot as plt\n",
    "from itertools import cycle\n",
    "\n",
    "from sklearn import svm, datasets\n",
    "from sklearn.metrics import roc_curve, auc\n",
    "from sklearn.model_selection import train_test_split\n",
    "from sklearn.preprocessing import label_binarize\n",
    "from sklearn.multiclass import OneVsRestClassifier\n",
    "from scipy import interp\n",
    "\n",
    "# Compute ROC curve and ROC area for each class\n",
    "fpr = dict()\n",
    "tpr = dict()\n",
    "roc_auc = dict()\n",
    "for i in range(4):\n",
    "    fpr[i], tpr[i], _ = roc_curve(Y_test[:, i], Y_pred[:, i])\n",
    "    roc_auc[i] = auc(fpr[i], tpr[i])\n",
    "    \n",
    "\n",
    "# Compute micro-average ROC curve and ROC area\n",
    "fpr[\"micro\"], tpr[\"micro\"], _ = roc_curve(Y_test.ravel(), Y_pred.ravel())\n",
    "roc_auc[\"micro\"] = auc(fpr[\"micro\"], tpr[\"micro\"])"
   ]
  },
  {
   "cell_type": "code",
   "execution_count": 29,
   "metadata": {},
   "outputs": [
    {
     "data": {
      "image/png": "[encoded data removed]",
      "text/plain": [
       "<matplotlib.figure.Figure at 0x7f5435795d68>"
      ]
     },
     "metadata": {
      "needs_background": "light"
     },
     "output_type": "display_data"
    }
   ],
   "source": [
    "# First aggregate all false positive rates\n",
    "all_fpr = np.unique(np.concatenate([fpr[i] for i in range(4)]))\n",
    "\n",
    "# Then interpolate all ROC curves at this points\n",
    "mean_tpr = np.zeros_like(all_fpr)\n",
    "for i in range(4):\n",
    "    mean_tpr += interp(all_fpr, fpr[i], tpr[i])\n",
    "\n",
    "# Finally average it and compute AUC\n",
    "mean_tpr /= 4\n",
    "\n",
    "fpr[\"macro\"] = all_fpr\n",
    "tpr[\"macro\"] = mean_tpr\n",
    "roc_auc[\"macro\"] = auc(fpr[\"macro\"], tpr[\"macro\"])\n",
    "\n",
    "\n",
    "# Plot all ROC curves\n",
    "#plt.figure()\n",
    "#plt.figure(figsize = (25,9))\n",
    "\n",
    "#plt.plot(fpr[\"micro\"], tpr[\"micro\"],\n",
    "#         label='micro-average ROC curve (area = {0:0.2f})'\n",
    "#               ''.format(roc_auc[\"micro\"]),\n",
    "#         color='deeppink', marker=11, linewidth=1)\n",
    "\n",
    "#plt.plot(fpr[\"macro\"], tpr[\"macro\"],\n",
    "#         label='macro-average ROC curve (area = {0:0.2f})'\n",
    "#               ''.format(roc_auc[\"macro\"]),\n",
    "#         color='navy', marker=5, linewidth=1)\n",
    "\n",
    "\n",
    "colormap = plt.cm.gist_ncar #nipy_spectral, Set1,Paired  \n",
    "colorst = [colormap(i) for i in np.linspace(0, 0.9,25)]  \n",
    "\n",
    "colors = cycle(['aqua', 'darkorange', 'cornflowerblue'])\n",
    "for i, color in zip(range(4), colors):\n",
    "    plt.plot(fpr[i], tpr[i], lw=0.9,\n",
    "             label='ROC curve of Family {0} (area = {1:0.2f})'\n",
    "             ''.format(list_fams[i], roc_auc[i]))\n",
    "\n",
    "plt.plot([0, 1], [0, 1], 'k--', lw=2)\n",
    "plt.xlim([0.0, 1.0])\n",
    "plt.ylim([0.0, 1.05])\n",
    "plt.xlabel('False Positive')\n",
    "plt.ylabel('True Positive')\n",
    "plt.title('ROC for VGG16-Fine-tuned+Softmax')\n",
    "plt.legend(loc=\"lower right\", fontsize='small')\n",
    "plt.savefig('Receiver Operating Characteristic for VGG16-FT+Softmax.png', transparent=True)\n",
    "plt.show()"
   ]
  },
  {
   "cell_type": "code",
   "execution_count": 30,
   "metadata": {},
   "outputs": [
    {
     "data": {
      "image/png": "[encoded data removed]",
      "text/plain": [
       "<matplotlib.figure.Figure at 0x7f54357b4b00>"
      ]
     },
     "metadata": {
      "needs_background": "light"
     },
     "output_type": "display_data"
    }
   ],
   "source": [
    "def plot_confusion_matrix(cls_pred):\n",
    "    \n",
    "    cls_true = generator_test.classes\n",
    "    \n",
    "    cm = confusion_matrix(y_true=cls_test, y_pred=cls_pred)\n",
    "    \n",
    "    cm=cm.astype('float')/cm.sum(axis=1)[:,np.newaxis]\n",
    "    \n",
    "    figure = plt.gcf()\n",
    "    figure.set_size_inches(20, 12)\n",
    "    sns.set(font_scale=1.25)\n",
    "    hm = sns.heatmap(cm, cbar=True, annot=True, square=True,\n",
    "                 annot_kws={'size': 9}, linewidth = 0.1,\n",
    "                 yticklabels=list_fams, xticklabels=list_fams)\n",
    "    plt.ylabel('True label')\n",
    "    plt.xlabel('Predicted label')\n",
    "    \n",
    "    plt.savefig('VGG16-Fine-tuned-softmax-Confusion-matrix(loss=SGD).png', bbox_inches='tight')\n",
    "    plt.show()\n",
    "    \n",
    "plot_confusion_matrix(cls_pred=cls_pred)"
   ]
  },
  {
   "cell_type": "code",
   "execution_count": 31,
   "metadata": {},
   "outputs": [
    {
     "data": {
      "text/plain": [
       "{'0': 0.9137931034482759,\n",
       " '1': 0.896551724137931,\n",
       " '2': 0.9482758620689655,\n",
       " '3': 0.896551724137931}"
      ]
     },
     "execution_count": 31,
     "metadata": {},
     "output_type": "execute_result"
    }
   ],
   "source": [
    "CM_VGG16_FT_Softmax.ACC"
   ]
  },
  {
   "cell_type": "code",
   "execution_count": null,
   "metadata": {},
   "outputs": [],
   "source": []
  }
 ],
 "metadata": {
  "kernelspec": {
   "display_name": "Python 3",
   "language": "python",
   "name": "python3"
  },
  "language_info": {
   "codemirror_mode": {
    "name": "ipython",
    "version": 3
   },
   "file_extension": ".py",
   "mimetype": "text/x-python",
   "name": "python",
   "nbconvert_exporter": "python",
   "pygments_lexer": "ipython3",
   "version": "3.6.0"
  }
 },
 "nbformat": 4,
 "nbformat_minor": 2
}
