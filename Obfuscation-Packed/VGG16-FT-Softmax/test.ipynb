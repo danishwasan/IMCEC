{
 "cells": [
  {
   "cell_type": "markdown",
   "metadata": {},
   "source": [
    "# VGG16 Fine-Tuned+Softmax"
   ]
  },
  {
   "cell_type": "code",
   "execution_count": 8,
   "metadata": {},
   "outputs": [],
   "source": [
    "import os\n",
    "os.environ[\"CUDA_DEVICE_ORDER\"] = \"PCI_BUS_ID\"   # see issue #152\n",
    "os.environ[\"CUDA_VISIBLE_DEVICES\"] = \"1\"\n"
   ]
  },
  {
   "cell_type": "code",
   "execution_count": 9,
   "metadata": {},
   "outputs": [],
   "source": [
    "## extra imports to set GPU options\n",
    "import tensorflow as tf\n",
    "from keras import backend as k\n",
    "\n",
    "###################################\n",
    "# TensorFlow wizardry\n",
    "config = tf.ConfigProto()\n",
    "\n",
    "# Don't pre-allocate memory; allocate as-needed\n",
    "config.gpu_options.allow_growth = True\n",
    "\n",
    "# Only allow a total of half the GPU memory to be allocated\n",
    "config.gpu_options.per_process_gpu_memory_fraction = 1 # 0.5 for Half\n",
    "\n",
    "# Create a session with the above options specified.\n",
    "k.tensorflow_backend.set_session(tf.Session(config=config))\n"
   ]
  },
  {
   "cell_type": "code",
   "execution_count": 1,
   "metadata": {},
   "outputs": [
    {
     "name": "stderr",
     "output_type": "stream",
     "text": [
      "Using TensorFlow backend.\n"
     ]
    }
   ],
   "source": [
    "from keras import backend as K\n",
    "from keras.models import Sequential, Model\n",
    "from keras.layers import Activation\n",
    "from keras.layers import Dense, Flatten\n",
    "from keras.optimizers import Adam\n",
    "from keras.metrics import categorical_crossentropy\n",
    "from keras.preprocessing.image import ImageDataGenerator\n",
    "from keras.layers.normalization import BatchNormalization\n",
    "from keras.layers.convolutional import *\n",
    "from keras.models import Sequential\n",
    "from keras.layers.core import Flatten, Dense, Dropout\n",
    "from keras.layers.convolutional import Convolution2D, MaxPooling2D, ZeroPadding2D\n",
    "from keras.optimizers import SGD\n",
    "from matplotlib import pyplot as plt\n",
    "from sklearn.metrics import confusion_matrix\n",
    "from keras.utils import plot_model\n",
    "import numpy\n",
    "import tensorflow as tf\n",
    "import keras\n",
    "import seaborn as sns\n",
    "import pandas as pd\n",
    "import numpy as np\n",
    "import linecache\n",
    "import sys\n",
    "import h5py\n",
    "import itertools\n",
    "import matplotlib.pyplot as plt\n",
    "import os\n",
    "import pickle\n",
    "import matplotlib.pyplot as plt; plt.rcdefaults()\n",
    "import numpy as np\n",
    "import matplotlib.pyplot as plt\n",
    "from keras.callbacks import ModelCheckpoint\n",
    "from keras.callbacks import TensorBoard\n",
    "from keras.callbacks import ReduceLROnPlateau\n",
    "from keras.callbacks import EarlyStopping\n",
    "from keras.callbacks import RemoteMonitor\n",
    "from numpy import argmax\n",
    "import numpy as np\n",
    "from numpy.random import RandomState\n",
    "np.random.seed(1)\n",
    "#from sklearn.manifold import TSNE\n",
    "from sklearn.preprocessing import label_binarize\n",
    "\n",
    "\n",
    "\n",
    "from tsne import bh_sne\n",
    "#from tsne.bh_sne import BH_SNE\n",
    "import matplotlib.pyplot as plt\n",
    "from sklearn.model_selection import train_test_split\n",
    "\n",
    "import os\n",
    "import os.path\n",
    "import glob\n",
    "\n",
    "from keras.preprocessing import image\n",
    "from keras.applications.vgg16 import VGG16\n",
    "from keras.applications.imagenet_utils import preprocess_input"
   ]
  },
  {
   "cell_type": "code",
   "execution_count": 2,
   "metadata": {},
   "outputs": [],
   "source": [
    "import os\n",
    "import os.path\n",
    "import glob\n",
    "\n",
    "from sklearn.preprocessing import LabelEncoder\n",
    "from sklearn.model_selection import StratifiedKFold                                                                                                                       \n",
    "from sklearn.metrics import confusion_matrix,accuracy_score\n",
    "from sklearn import svm\n",
    "\n",
    "import matplotlib.pyplot as plt\n",
    "import matplotlib.cm as colormap\n",
    "plt.rcParams['image.cmap'] = 'Paired'\n",
    "\n",
    "import numpy as np\n",
    "np.random.seed(1)\n",
    "\n",
    "from keras.preprocessing.image import load_img\n",
    "from keras.preprocessing.image import img_to_array\n",
    "from keras.utils import np_utils\n",
    "#from PIL import Image\n",
    "from keras.preprocessing import image\n",
    "\n",
    "\n",
    "from keras.applications.vgg19 import VGG19\n",
    "from keras.applications.vgg16 import VGG16\n",
    "from keras.applications.imagenet_utils import preprocess_input"
   ]
  },
  {
   "cell_type": "code",
   "execution_count": 3,
   "metadata": {},
   "outputs": [
    {
     "data": {
      "text/plain": [
       "'1.9.0'"
      ]
     },
     "execution_count": 3,
     "metadata": {},
     "output_type": "execute_result"
    }
   ],
   "source": [
    "tf.__version__"
   ]
  },
  {
   "cell_type": "code",
   "execution_count": 6,
   "metadata": {},
   "outputs": [],
   "source": [
    "model = keras.applications.vgg16.VGG16(include_top=True, weights='imagenet', input_shape=(224,224,3), classes=1000)\n",
    "#model.summary()"
   ]
  },
  {
   "cell_type": "code",
   "execution_count": 7,
   "metadata": {},
   "outputs": [],
   "source": [
    "transfer_layer = model.get_layer('fc2')\n",
    "\n",
    "x=Dense(2, activation='softmax')(transfer_layer.output)\n",
    "CNN = Model(inputs=model.input,\n",
    "                   outputs=x)\n",
    "#CNN.summary()"
   ]
  },
  {
   "cell_type": "code",
   "execution_count": 4,
   "metadata": {},
   "outputs": [],
   "source": [
    "train_path = '/data/danish/Data/UPX-Packed-And-Unpacked-Samples-train-test/train/'\n",
    "test_path  = '/data/danish/Data/UPX-Packed-And-Unpacked-Samples-train-test/test/'"
   ]
  },
  {
   "cell_type": "code",
   "execution_count": 5,
   "metadata": {},
   "outputs": [],
   "source": [
    "input_shape=(224,224)\n",
    "batch_size=64\n",
    "#save_fn='VGG16-Color='+str(input_shape[:])\n",
    "#save_fn"
   ]
  },
  {
   "cell_type": "code",
   "execution_count": 6,
   "metadata": {},
   "outputs": [
    {
     "name": "stdout",
     "output_type": "stream",
     "text": [
      "Found 103 images belonging to 2 classes.\n",
      "Steps for Training\n",
      "\n",
      " 1.609375\n",
      "Labels of samples as integer\n",
      "\n",
      " [0 0 0 0 0 0 0 0 0 0 0 0 0 0 0 0 0 0 0 0 0 0 0 0 0 0 0 0 0 0 0 0 0 1 1 1 1\n",
      " 1 1 1 1 1 1 1 1 1 1 1 1 1 1 1 1 1 1 1 1 1 1 1 1 1 1 1 1 1 1 1 1 1 1 1 1 1\n",
      " 1 1 1 1 1 1 1 1 1 1 1 1 1 1 1 1 1 1 1 1 1 1 1 1 1 1 1 1 1]\n"
     ]
    }
   ],
   "source": [
    "datagen_train = ImageDataGenerator(\n",
    "      rescale=1./255\n",
    "      #rotation_range=0.1,#180,\n",
    "      #width_shift_range=0.1,\n",
    "      #height_shift_range=0.1,\n",
    "      #shear_range=0.1,\n",
    "      #zoom_range=0.1,#[0.9, 1.5],\n",
    "      #horizontal_flip=True,\n",
    "      #vertical_flip=True,\n",
    "      #fill_mode='nearest'\n",
    "                )\n",
    "\n",
    "generator_train = datagen_train.flow_from_directory(directory=train_path,\n",
    "                                                    target_size=input_shape,\n",
    "                                                    batch_size=batch_size,\n",
    "                                                    class_mode='categorical',#binary\n",
    "                                                    #color_mode=\"rgb\",\n",
    "                                                    #save_prefix='Train_Aug',\n",
    "                                                    shuffle=True,\n",
    "                                                    #save_to_dir=save_to_dir,\n",
    "                                                    seed=42)\n",
    "\n",
    "steps_train = generator_train.n/ batch_size\n",
    "print(\"Steps for Training\\n\\n\",steps_train)\n",
    "\n",
    "cls_train = generator_train.classes\n",
    "print(\"Labels of samples as integer\\n\\n\",cls_train)"
   ]
  },
  {
   "cell_type": "code",
   "execution_count": 7,
   "metadata": {},
   "outputs": [
    {
     "name": "stdout",
     "output_type": "stream",
     "text": [
      "Found 45 images belonging to 2 classes.\n",
      "Steps for Test\n",
      "\n",
      " 0.703125\n",
      "Labels of samples as integer\n",
      "\n",
      " [0 0 0 0 0 0 0 0 0 0 0 0 0 0 0 1 1 1 1 1 1 1 1 1 1 1 1 1 1 1 1 1 1 1 1 1 1\n",
      " 1 1 1 1 1 1 1 1]\n"
     ]
    }
   ],
   "source": [
    "datagen_test = ImageDataGenerator(rescale=1./255)\n",
    "\n",
    "generator_test = datagen_test.flow_from_directory(directory=test_path,\n",
    "                                                  target_size=input_shape,\n",
    "                                                  class_mode='categorical',\n",
    "                                                  #color_mode=\"rgb\",\n",
    "                                                  #save_prefix='Test_Aug',\n",
    "                                                  batch_size=batch_size,\n",
    "                                                  shuffle=False,\n",
    "                                                  seed=42)\n",
    "\n",
    "steps_test = generator_test.n / batch_size\n",
    "print(\"Steps for Test\\n\\n\",steps_test)\n",
    "\n",
    "cls_test = generator_test.classes\n",
    "print(\"Labels of samples as integer\\n\\n\",cls_test)"
   ]
  },
  {
   "cell_type": "code",
   "execution_count": null,
   "metadata": {},
   "outputs": [],
   "source": []
  },
  {
   "cell_type": "code",
   "execution_count": 12,
   "metadata": {},
   "outputs": [],
   "source": [
    "sgd = SGD(lr=0.001, decay=0.01, momentum=0.9)\n",
    "\n",
    "CNN.compile(optimizer = sgd, loss='categorical_crossentropy', metrics=['accuracy'])"
   ]
  },
  {
   "cell_type": "code",
   "execution_count": 13,
   "metadata": {},
   "outputs": [
    {
     "name": "stdout",
     "output_type": "stream",
     "text": [
      "Epoch 1/50\n",
      "2/1 [=====================================] - 15s 8s/step - loss: 1.1066 - acc: 0.4236 - val_loss: 3.8509 - val_acc: 0.6667\n",
      "Epoch 2/50\n",
      "2/1 [=====================================] - 1s 557ms/step - loss: 3.8127 - acc: 0.6846 - val_loss: 2.4500 - val_acc: 0.6667\n",
      "Epoch 3/50\n",
      "2/1 [=====================================] - 2s 750ms/step - loss: 1.5438 - acc: 0.7099 - val_loss: 0.5377 - val_acc: 0.8667\n",
      "Epoch 4/50\n",
      "2/1 [=====================================] - 2s 1s/step - loss: 1.2408 - acc: 0.6459 - val_loss: 1.1298 - val_acc: 0.6667\n",
      "Epoch 5/50\n",
      "2/1 [=====================================] - 2s 897ms/step - loss: 0.6503 - acc: 0.8299 - val_loss: 0.6128 - val_acc: 0.6222\n",
      "Epoch 6/50\n",
      "2/1 [=====================================] - 2s 867ms/step - loss: 0.5412 - acc: 0.6691 - val_loss: 1.1011 - val_acc: 0.6889\n",
      "Epoch 7/50\n",
      "2/1 [=====================================] - 2s 849ms/step - loss: 0.5734 - acc: 0.7891 - val_loss: 0.6389 - val_acc: 0.5111\n",
      "Epoch 8/50\n",
      "2/1 [=====================================] - 2s 801ms/step - loss: 0.5390 - acc: 0.6901 - val_loss: 0.3735 - val_acc: 0.8444\n",
      "Epoch 9/50\n",
      "2/1 [=====================================] - 2s 913ms/step - loss: 0.2790 - acc: 0.8786 - val_loss: 0.3273 - val_acc: 0.8444\n",
      "Epoch 10/50\n",
      "2/1 [=====================================] - 2s 769ms/step - loss: 0.2127 - acc: 0.8938 - val_loss: 0.2254 - val_acc: 0.8444\n",
      "Epoch 11/50\n",
      "2/1 [=====================================] - 2s 1s/step - loss: 0.1569 - acc: 0.9207 - val_loss: 0.1580 - val_acc: 0.9556\n",
      "Epoch 12/50\n",
      "2/1 [=====================================] - 2s 942ms/step - loss: 0.1438 - acc: 0.9647 - val_loss: 0.1212 - val_acc: 0.9778\n",
      "Epoch 13/50\n",
      "2/1 [=====================================] - 2s 999ms/step - loss: 0.0937 - acc: 0.9916 - val_loss: 0.1161 - val_acc: 0.9778\n",
      "Epoch 14/50\n",
      "2/1 [=====================================] - 2s 961ms/step - loss: 0.0842 - acc: 0.9916 - val_loss: 0.0969 - val_acc: 0.9778\n",
      "Epoch 15/50\n",
      "2/1 [=====================================] - 2s 808ms/step - loss: 0.0717 - acc: 0.9916 - val_loss: 0.0820 - val_acc: 0.9778\n",
      "Epoch 16/50\n",
      "2/1 [=====================================] - 2s 787ms/step - loss: 0.0622 - acc: 0.9916 - val_loss: 0.0745 - val_acc: 0.9778\n",
      "Epoch 17/50\n",
      "2/1 [=====================================] - 1s 717ms/step - loss: 0.0573 - acc: 0.9916 - val_loss: 0.0753 - val_acc: 0.9778\n",
      "Epoch 18/50\n",
      "2/1 [=====================================] - 2s 1s/step - loss: 0.0495 - acc: 0.9916 - val_loss: 0.0781 - val_acc: 0.9778\n",
      "Epoch 19/50\n",
      "2/1 [=====================================] - 2s 881ms/step - loss: 0.0444 - acc: 0.9916 - val_loss: 0.0834 - val_acc: 0.9778\n",
      "Epoch 20/50\n",
      "2/1 [=====================================] - 2s 879ms/step - loss: 0.0374 - acc: 0.9916 - val_loss: 0.0894 - val_acc: 0.9778\n",
      "Epoch 21/50\n",
      "2/1 [=====================================] - 2s 783ms/step - loss: 0.0345 - acc: 0.9916 - val_loss: 0.0888 - val_acc: 0.9778\n",
      "Epoch 22/50\n",
      "2/1 [=====================================] - 2s 871ms/step - loss: 0.0291 - acc: 0.9916 - val_loss: 0.0911 - val_acc: 0.9778\n",
      "Epoch 23/50\n",
      "2/1 [=====================================] - 2s 926ms/step - loss: 0.0356 - acc: 0.9882 - val_loss: 0.0926 - val_acc: 0.9778\n",
      "Epoch 24/50\n",
      "2/1 [=====================================] - 1s 734ms/step - loss: 0.0282 - acc: 0.9916 - val_loss: 0.0978 - val_acc: 0.9778\n",
      "Epoch 25/50\n",
      "2/1 [=====================================] - 1s 747ms/step - loss: 0.0245 - acc: 0.9916 - val_loss: 0.1067 - val_acc: 0.9778\n",
      "Epoch 26/50\n",
      "2/1 [=====================================] - 1s 738ms/step - loss: 0.0298 - acc: 0.9882 - val_loss: 0.1112 - val_acc: 0.9778\n",
      "Epoch 27/50\n",
      "2/1 [=====================================] - 2s 839ms/step - loss: 0.0215 - acc: 0.9916 - val_loss: 0.1163 - val_acc: 0.9778\n",
      "Epoch 28/50\n",
      "2/1 [=====================================] - 1s 701ms/step - loss: 0.0280 - acc: 0.9882 - val_loss: 0.1159 - val_acc: 0.9778\n",
      "Epoch 29/50\n",
      "2/1 [=====================================] - 2s 891ms/step - loss: 0.0208 - acc: 0.9916 - val_loss: 0.1199 - val_acc: 0.9778\n",
      "Epoch 30/50\n",
      "2/1 [=====================================] - 2s 790ms/step - loss: 0.0234 - acc: 0.9882 - val_loss: 0.1234 - val_acc: 0.9778\n",
      "Epoch 31/50\n",
      "2/1 [=====================================] - 2s 942ms/step - loss: 0.0237 - acc: 0.9882 - val_loss: 0.1240 - val_acc: 0.9778\n",
      "Epoch 32/50\n",
      "2/1 [=====================================] - 1s 585ms/step - loss: 0.0222 - acc: 0.9882 - val_loss: 0.1278 - val_acc: 0.9778\n",
      "Epoch 33/50\n",
      "2/1 [=====================================] - 2s 1s/step - loss: 0.0194 - acc: 0.9916 - val_loss: 0.1304 - val_acc: 0.9778\n",
      "Epoch 34/50\n",
      "2/1 [=====================================] - 2s 1s/step - loss: 0.0202 - acc: 0.9882 - val_loss: 0.1328 - val_acc: 0.9778\n",
      "Epoch 35/50\n",
      "2/1 [=====================================] - 2s 831ms/step - loss: 0.0215 - acc: 0.9882 - val_loss: 0.1357 - val_acc: 0.9778\n",
      "Epoch 36/50\n",
      "2/1 [=====================================] - 2s 916ms/step - loss: 0.0180 - acc: 0.9916 - val_loss: 0.1353 - val_acc: 0.9778\n",
      "Epoch 37/50\n",
      "2/1 [=====================================] - 2s 1s/step - loss: 0.0203 - acc: 0.9882 - val_loss: 0.1348 - val_acc: 0.9778\n",
      "Epoch 38/50\n",
      "2/1 [=====================================] - 2s 899ms/step - loss: 0.0196 - acc: 0.9916 - val_loss: 0.1363 - val_acc: 0.9778\n",
      "Epoch 39/50\n",
      "2/1 [=====================================] - 2s 1s/step - loss: 0.0198 - acc: 0.9798 - val_loss: 0.1429 - val_acc: 0.9778\n",
      "Epoch 40/50\n",
      "2/1 [=====================================] - 1s 732ms/step - loss: 0.0149 - acc: 0.9916 - val_loss: 0.1457 - val_acc: 0.9778\n",
      "Epoch 41/50\n",
      "2/1 [=====================================] - 2s 875ms/step - loss: 0.0219 - acc: 0.9882 - val_loss: 0.1446 - val_acc: 0.9778\n",
      "Epoch 42/50\n",
      "2/1 [=====================================] - 2s 1s/step - loss: 0.0183 - acc: 0.9882 - val_loss: 0.1405 - val_acc: 0.9778\n",
      "Epoch 43/50\n",
      "2/1 [=====================================] - 2s 803ms/step - loss: 0.0149 - acc: 0.9916 - val_loss: 0.1382 - val_acc: 0.9778\n",
      "Epoch 44/50\n",
      "2/1 [=====================================] - 2s 959ms/step - loss: 0.0207 - acc: 0.9882 - val_loss: 0.1395 - val_acc: 0.9778\n",
      "Epoch 45/50\n",
      "2/1 [=====================================] - 2s 876ms/step - loss: 0.0151 - acc: 0.9916 - val_loss: 0.1430 - val_acc: 0.9778\n",
      "Epoch 46/50\n",
      "2/1 [=====================================] - 2s 1s/step - loss: 0.0187 - acc: 0.9916 - val_loss: 0.1485 - val_acc: 0.9778\n",
      "Epoch 47/50\n",
      "2/1 [=====================================] - 2s 832ms/step - loss: 0.0157 - acc: 0.9916 - val_loss: 0.1521 - val_acc: 0.9778\n",
      "Epoch 48/50\n",
      "2/1 [=====================================] - 2s 796ms/step - loss: 0.0160 - acc: 0.9916 - val_loss: 0.1546 - val_acc: 0.9778\n",
      "Epoch 49/50\n",
      "2/1 [=====================================] - 2s 933ms/step - loss: 0.0206 - acc: 0.9882 - val_loss: 0.1527 - val_acc: 0.9778\n",
      "Epoch 50/50\n",
      "2/1 [=====================================] - 2s 893ms/step - loss: 0.0131 - acc: 0.9916 - val_loss: 0.1491 - val_acc: 0.9778\n"
     ]
    }
   ],
   "source": [
    "history = CNN.fit_generator(generator=generator_train,\n",
    "                                epochs=50,\n",
    "                                steps_per_epoch=steps_train,\n",
    "                                validation_data=generator_test,\n",
    "                                validation_steps=steps_test\n",
    "                                )"
   ]
  },
  {
   "cell_type": "code",
   "execution_count": 14,
   "metadata": {},
   "outputs": [],
   "source": [
    "CNN.save(\"VGG16-FT-Model.h5\")"
   ]
  },
  {
   "cell_type": "code",
   "execution_count": 15,
   "metadata": {},
   "outputs": [],
   "source": [
    "#####################################\n",
    "# write Traning History to a file\n",
    "output = open('VGG16-FT-Softmax-history.pkl', 'wb')\n",
    "pickle.dump(history.history, output)\n",
    "output.close()\n",
    "#####################################"
   ]
  },
  {
   "cell_type": "code",
   "execution_count": 16,
   "metadata": {},
   "outputs": [
    {
     "name": "stdout",
     "output_type": "stream",
     "text": [
      "1/1 [==============================] - 1s 930ms/step\n",
      "acc: 97.78%\n"
     ]
    }
   ],
   "source": [
    "scores = CNN.evaluate_generator(generator_test, verbose=1)\n",
    "print(\"%s: %.2f%%\" % (CNN.metrics_names[1], scores[1]*100))"
   ]
  },
  {
   "cell_type": "code",
   "execution_count": 17,
   "metadata": {},
   "outputs": [],
   "source": [
    "# read Traning History back from the file\n",
    "pkl_file = open('VGG16-FT-Softmax-history.pkl', 'rb')\n",
    "history = pickle.load(pkl_file)\n",
    "pkl_file.close()"
   ]
  },
  {
   "cell_type": "code",
   "execution_count": 10,
   "metadata": {},
   "outputs": [],
   "source": [
    "from keras.models import load_model\n",
    "CNN = load_model(\"VGG16-FT-Model.h5\")\n",
    "#CNN.summary()"
   ]
  },
  {
   "cell_type": "code",
   "execution_count": 19,
   "metadata": {},
   "outputs": [
    {
     "name": "stdout",
     "output_type": "stream",
     "text": [
      "1/1 [==============================] - 1s 1s/step\n",
      "acc: 97.78%\n"
     ]
    }
   ],
   "source": [
    "scores = CNN.evaluate_generator(generator_test, verbose=1)\n",
    "print(\"%s: %.2f%%\" % (CNN.metrics_names[1], scores[1]*100))"
   ]
  },
  {
   "cell_type": "code",
   "execution_count": 11,
   "metadata": {},
   "outputs": [
    {
     "name": "stdout",
     "output_type": "stream",
     "text": [
      "\r",
      "1/1 [==============================] - 6s 6s/step\n"
     ]
    }
   ],
   "source": [
    "cls_pred = CNN.predict_generator(generator_test, verbose=1)"
   ]
  },
  {
   "cell_type": "code",
   "execution_count": 21,
   "metadata": {},
   "outputs": [
    {
     "name": "stdout",
     "output_type": "stream",
     "text": [
      "[0 1 0 0 0 0 0 0 0 0 0 0 0 0 0 1 1 1 1 1 1 1 1 1 1 1 1 1 1 1 1 1 1 1 1 1 1\n",
      " 1 1 1 1 1 1 1 1]\n"
     ]
    }
   ],
   "source": [
    "cls_pred = np.argmax(cls_pred, axis=1)\n",
    "print(cls_pred)"
   ]
  },
  {
   "cell_type": "code",
   "execution_count": 22,
   "metadata": {},
   "outputs": [],
   "source": [
    "file = open('VGG16-FT+Softmax(pred).pkl', 'wb')\n",
    "pickle.dump(cls_pred, file)\n",
    "file.close()"
   ]
  },
  {
   "cell_type": "code",
   "execution_count": 23,
   "metadata": {},
   "outputs": [],
   "source": [
    "from pycm import ConfusionMatrix\n",
    "CM_VGG16_FT_Softmax = ConfusionMatrix(cls_test,cls_pred)\n",
    "file = open('CM_VGG16_FT_Softmax_.pkl', 'wb')\n",
    "pickle.dump(CM_VGG16_FT_Softmax, file)\n",
    "file.close()"
   ]
  },
  {
   "cell_type": "code",
   "execution_count": 24,
   "metadata": {},
   "outputs": [
    {
     "data": {
      "text/plain": [
       "pycm.ConfusionMatrix(classes: ['0', '1'])"
      ]
     },
     "execution_count": 24,
     "metadata": {},
     "output_type": "execute_result"
    }
   ],
   "source": [
    "file = open('CM_VGG16_FT_Softmax_.pkl', 'rb')\n",
    "CM_VGG16_FT_Softmax = pickle.load(file)\n",
    "file.close()\n",
    "CM_VGG16_FT_Softmax"
   ]
  },
  {
   "cell_type": "code",
   "execution_count": 25,
   "metadata": {},
   "outputs": [
    {
     "data": {
      "text/plain": [
       "['Packed', 'Unpacked']"
      ]
     },
     "execution_count": 25,
     "metadata": {},
     "output_type": "execute_result"
    }
   ],
   "source": [
    "list_fams = list(generator_train.class_indices.keys())\n",
    "list_fams"
   ]
  },
  {
   "cell_type": "code",
   "execution_count": 26,
   "metadata": {},
   "outputs": [
    {
     "name": "stdout",
     "output_type": "stream",
     "text": [
      "              precision    recall  f1-score   support\n",
      "\n",
      "      Packed       1.00      0.93      0.97        15\n",
      "    Unpacked       0.97      1.00      0.98        30\n",
      "\n",
      "    accuracy                           0.98        45\n",
      "   macro avg       0.98      0.97      0.97        45\n",
      "weighted avg       0.98      0.98      0.98        45\n",
      "\n"
     ]
    }
   ],
   "source": [
    "from sklearn.metrics import classification_report, confusion_matrix  \n",
    "#print(confusion_matrix(cls_test,cls_pred))  \n",
    "print(classification_report(cls_test,cls_pred,target_names=list_fams)) "
   ]
  },
  {
   "cell_type": "code",
   "execution_count": 27,
   "metadata": {},
   "outputs": [
    {
     "name": "stdout",
     "output_type": "stream",
     "text": [
      "(45, 2)\n",
      "(45, 2)\n"
     ]
    }
   ],
   "source": [
    "from numpy import array\n",
    "from numpy import argmax\n",
    "from keras.utils import to_categorical\n",
    "# define example\n",
    "Y_pred = cls_pred\n",
    "\n",
    "# one hot encode\n",
    "Y_pred = to_categorical(Y_pred)\n",
    "print(Y_pred.shape)\n",
    "# invert encoding\n",
    "#inverted = argmax(encoded[0])\n",
    "#print(inverted)\n",
    "\n",
    "\n",
    "from numpy import array\n",
    "from numpy import argmax\n",
    "from keras.utils import to_categorical\n",
    "# define example\n",
    "Y_test = cls_test\n",
    "\n",
    "# one hot encode\n",
    "Y_test = to_categorical(Y_test)\n",
    "print(Y_test.shape)\n",
    "# invert encoding\n",
    "#inverted = argmax(encoded[0])\n",
    "#print(inverted)"
   ]
  },
  {
   "cell_type": "code",
   "execution_count": 28,
   "metadata": {},
   "outputs": [],
   "source": [
    "import numpy as np\n",
    "import matplotlib.pyplot as plt\n",
    "from itertools import cycle\n",
    "\n",
    "from sklearn import svm, datasets\n",
    "from sklearn.metrics import roc_curve, auc\n",
    "from sklearn.model_selection import train_test_split\n",
    "from sklearn.preprocessing import label_binarize\n",
    "from sklearn.multiclass import OneVsRestClassifier\n",
    "from scipy import interp\n",
    "\n",
    "# Compute ROC curve and ROC area for each class\n",
    "fpr = dict()\n",
    "tpr = dict()\n",
    "roc_auc = dict()\n",
    "for i in range(2):\n",
    "    fpr[i], tpr[i], _ = roc_curve(Y_test[:, i], Y_pred[:, i])\n",
    "    roc_auc[i] = auc(fpr[i], tpr[i])\n",
    "    \n",
    "\n",
    "# Compute micro-average ROC curve and ROC area\n",
    "fpr[\"micro\"], tpr[\"micro\"], _ = roc_curve(Y_test.ravel(), Y_pred.ravel())\n",
    "roc_auc[\"micro\"] = auc(fpr[\"micro\"], tpr[\"micro\"])"
   ]
  },
  {
   "cell_type": "code",
   "execution_count": 29,
   "metadata": {},
   "outputs": [
    {
     "data": {
      "image/png": "[encoded data removed]",
      "text/plain": [
       "<matplotlib.figure.Figure at 0x7ff113b4e518>"
      ]
     },
     "metadata": {
      "needs_background": "light"
     },
     "output_type": "display_data"
    }
   ],
   "source": [
    "# First aggregate all false positive rates\n",
    "all_fpr = np.unique(np.concatenate([fpr[i] for i in range(2)]))\n",
    "\n",
    "# Then interpolate all ROC curves at this points\n",
    "mean_tpr = np.zeros_like(all_fpr)\n",
    "for i in range(2):\n",
    "    mean_tpr += interp(all_fpr, fpr[i], tpr[i])\n",
    "\n",
    "# Finally average it and compute AUC\n",
    "mean_tpr /= 2\n",
    "\n",
    "fpr[\"macro\"] = all_fpr\n",
    "tpr[\"macro\"] = mean_tpr\n",
    "roc_auc[\"macro\"] = auc(fpr[\"macro\"], tpr[\"macro\"])\n",
    "\n",
    "\n",
    "# Plot all ROC curves\n",
    "#plt.figure()\n",
    "#plt.figure(figsize = (25,9))\n",
    "\n",
    "#plt.plot(fpr[\"micro\"], tpr[\"micro\"],\n",
    "#         label='micro-average ROC curve (area = {0:0.2f})'\n",
    "#               ''.format(roc_auc[\"micro\"]),\n",
    "#         color='deeppink', marker=11, linewidth=1)\n",
    "\n",
    "#plt.plot(fpr[\"macro\"], tpr[\"macro\"],\n",
    "#         label='macro-average ROC curve (area = {0:0.2f})'\n",
    "#               ''.format(roc_auc[\"macro\"]),\n",
    "#         color='navy', marker=5, linewidth=1)\n",
    "\n",
    "\n",
    "colormap = plt.cm.gist_ncar #nipy_spectral, Set1,Paired  \n",
    "colorst = [colormap(i) for i in np.linspace(0, 0.9,25)]  \n",
    "\n",
    "colors = cycle(['aqua', 'darkorange', 'cornflowerblue'])\n",
    "for i, color in zip(range(2), colors):\n",
    "    plt.plot(fpr[i], tpr[i], lw=0.9,\n",
    "             label='ROC curve of Family {0} (area = {1:0.2f})'\n",
    "             ''.format(list_fams[i], roc_auc[i]))\n",
    "\n",
    "plt.plot([0, 1], [0, 1], 'k--', lw=2)\n",
    "plt.xlim([0.0, 1.0])\n",
    "plt.ylim([0.0, 1.05])\n",
    "plt.xlabel('False Positive')\n",
    "plt.ylabel('True Positive')\n",
    "plt.title('ROC for VGG16-Fine-tuned+Softmax')\n",
    "plt.legend(loc=\"lower right\", fontsize='small')\n",
    "plt.savefig('Receiver Operating Characteristic for VGG16-FT+Softmax.png', transparent=True)\n",
    "plt.show()"
   ]
  },
  {
   "cell_type": "code",
   "execution_count": 30,
   "metadata": {},
   "outputs": [
    {
     "data": {
      "image/png": "[encoded data removed]",
      "text/plain": [
       "<matplotlib.figure.Figure at 0x7ff113b22fd0>"
      ]
     },
     "metadata": {
      "needs_background": "light"
     },
     "output_type": "display_data"
    }
   ],
   "source": [
    "def plot_confusion_matrix(cls_pred):\n",
    "    \n",
    "    cls_true = generator_test.classes\n",
    "    \n",
    "    cm = confusion_matrix(y_true=cls_test, y_pred=cls_pred)\n",
    "    \n",
    "    cm=cm.astype('float')/cm.sum(axis=1)[:,np.newaxis]\n",
    "    \n",
    "    figure = plt.gcf()\n",
    "    figure.set_size_inches(20, 12)\n",
    "    sns.set(font_scale=1.25)\n",
    "    hm = sns.heatmap(cm, cbar=True, annot=True, square=True,\n",
    "                 annot_kws={'size': 9}, linewidth = 0.1,\n",
    "                 yticklabels=list_fams, xticklabels=list_fams)\n",
    "    plt.ylabel('True label')\n",
    "    plt.xlabel('Predicted label')\n",
    "    \n",
    "    plt.savefig('VGG16-Fine-tuned-softmax-Confusion-matrix(loss=SGD).png', bbox_inches='tight')\n",
    "    plt.show()\n",
    "    \n",
    "plot_confusion_matrix(cls_pred=cls_pred)"
   ]
  },
  {
   "cell_type": "code",
   "execution_count": 32,
   "metadata": {},
   "outputs": [
    {
     "data": {
      "text/plain": [
       "{'0': 0.9655172413793104, '1': 0.9836065573770492}"
      ]
     },
     "execution_count": 32,
     "metadata": {},
     "output_type": "execute_result"
    }
   ],
   "source": [
    "CM_VGG16_FT_Softmax.F1"
   ]
  },
  {
   "cell_type": "code",
   "execution_count": 70,
   "metadata": {},
   "outputs": [
    {
     "ename": "AttributeError",
     "evalue": "'Figure' object has no attribute 'save'",
     "output_type": "error",
     "traceback": [
      "\u001b[0;31m---------------------------------------------------------------------------\u001b[0m",
      "\u001b[0;31mAttributeError\u001b[0m                            Traceback (most recent call last)",
      "\u001b[0;32m<ipython-input-70-8cc928a32c3b>\u001b[0m in \u001b[0;36m<module>\u001b[0;34m\u001b[0m\n\u001b[1;32m     19\u001b[0m \u001b[0max\u001b[0m\u001b[0;34m.\u001b[0m\u001b[0mset_title\u001b[0m\u001b[0;34m(\u001b[0m\u001b[0mtitle\u001b[0m\u001b[0;34m,\u001b[0m \u001b[0mfontsize\u001b[0m\u001b[0;34m=\u001b[0m\u001b[0mtitle_fontsize\u001b[0m\u001b[0;34m)\u001b[0m\u001b[0;34m\u001b[0m\u001b[0m\n\u001b[1;32m     20\u001b[0m \u001b[0max\u001b[0m\u001b[0;34m.\u001b[0m\u001b[0mget_legend\u001b[0m\u001b[0;34m(\u001b[0m\u001b[0;34m)\u001b[0m\u001b[0;34m.\u001b[0m\u001b[0mremove\u001b[0m\u001b[0;34m(\u001b[0m\u001b[0;34m)\u001b[0m\u001b[0;34m\u001b[0m\u001b[0m\n\u001b[0;32m---> 21\u001b[0;31m \u001b[0mfig\u001b[0m\u001b[0;34m.\u001b[0m\u001b[0msave\u001b[0m\u001b[0;34m(\u001b[0m\u001b[0;34m\"ROC for VGG16-FT+Softmax.png\"\u001b[0m\u001b[0;34m)\u001b[0m\u001b[0;34m\u001b[0m\u001b[0m\n\u001b[0m",
      "\u001b[0;31mAttributeError\u001b[0m: 'Figure' object has no attribute 'save'"
     ]
    },
    {
     "data": {
      "image/png": "[encoded data removed]",
      "text/plain": [
       "<matplotlib.figure.Figure at 0x7f59ff025d68>"
      ]
     },
     "metadata": {
      "needs_background": "light"
     },
     "output_type": "display_data"
    }
   ],
   "source": [
    "import scikitplot as skplt\n",
    "import matplotlib.pyplot as plt\n",
    "import matplotlib\n",
    "from sklearn.metrics import roc_curve\n",
    "\n",
    "y_true = cls_test# ground truth labels\n",
    "y_probas = cls_pred# predicted probabilities generated by sklearn classifier\n",
    "\n",
    "#fpr, tpr, thresholds = roc_curve(y_true, y_probas)\n",
    "\n",
    "figsize=(8,6)\n",
    "title = \"ROC for VGG16-FT+Softmax\"\n",
    "title_fontsize = 12\n",
    "fig, ax = plt.subplots(1, 1, figsize=figsize)\n",
    "text_fontsize = 10\n",
    "\n",
    "skplt.metrics.plot_roc(y_true, y_probas,ax=ax, cmap='nipy_spectral',plot_macro=False, plot_micro=False )\n",
    "\n",
    "ax.set_title(title, fontsize=title_fontsize)\n",
    "ax.get_legend().remove()\n",
    "fig.savefig(\"ROC for VGG16-FT+Softmax.png\")"
   ]
  },
  {
   "cell_type": "code",
   "execution_count": null,
   "metadata": {},
   "outputs": [],
   "source": []
  }
 ],
 "metadata": {
  "kernelspec": {
   "display_name": "Python 3",
   "language": "python",
   "name": "python3"
  },
  "language_info": {
   "codemirror_mode": {
    "name": "ipython",
    "version": 3
   },
   "file_extension": ".py",
   "mimetype": "text/x-python",
   "name": "python",
   "nbconvert_exporter": "python",
   "pygments_lexer": "ipython3",
   "version": "3.6.0"
  }
 },
 "nbformat": 4,
 "nbformat_minor": 2
}
